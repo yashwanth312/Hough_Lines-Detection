{
 "cells": [
  {
   "cell_type": "code",
   "execution_count": 2,
   "metadata": {},
   "outputs": [],
   "source": [
    "import numpy as np\n",
    "import cv2\n",
    "import matplotlib.pyplot as plt\n",
    "\n",
    "\n",
    "cap = cv2.VideoCapture(0)  \n",
    "status , photo = cap.read()\n",
    "status\n",
    "\n",
    "init = 0 \n",
    "while status:\n",
    "    status, photo = cap.read()    \n",
    "    if init % 20 == 0:\n",
    "        converted = cv2.cvtColor(photo, cv2.COLOR_RGB2GRAY)\n",
    "        converted1 = cv2.GaussianBlur(converted, (5, 5 ), 0)\n",
    "        converted2 = cv2.Canny(converted1,20, 70)\n",
    "        converted3 = (np.zeros(converted2.shape)).astype(np.uint8)       \n",
    "        converted3 = cv2.addWeighted(converted2 ,0.4, converted3 ,0.6,0)\n",
    "        lines = cv2.HoughLinesP(converted3, 1, np.pi/180, 10, minLineLength =100, maxLineGap= 10)\n",
    "        caliber = 1\n",
    "        for line in lines:\n",
    "            x1,y1, x2, y2 = line[0]\n",
    "            dis = int(((x1-x2)**2 + (y1-y2)**2)**0.5*caliber)\n",
    "            cv2.line(photo,(x1, y1), (x2, y2), (255,0,0) , 5)\n",
    "            cv2.putText(photo, str(dis) + \"cm\" , (int((x1+x2)/2),int((y1+y2)/2)), cv2.FONT_HERSHEY_TRIPLEX, 1.0, (0,255,0), 1)\n",
    "            cv2.line(photo,(x1, y1), (x2, y2), (0,255,0 ) , 2)\n",
    "            cv2.imshow('MY PIC',photo)\n",
    "        if cv2.waitKey(1) == 27:\n",
    "            break\n",
    "    init += 1\n",
    "    \n",
    "cv2.destroyAllWindows()\n",
    "cap.release()"
   ]
  },
  {
   "cell_type": "code",
   "execution_count": null,
   "metadata": {},
   "outputs": [],
   "source": [
    "l = []"
   ]
  },
  {
   "cell_type": "code",
   "execution_count": null,
   "metadata": {},
   "outputs": [],
   "source": [
    "np.zeros()"
   ]
  },
  {
   "cell_type": "code",
   "execution_count": null,
   "metadata": {},
   "outputs": [],
   "source": [
    "import numpy as np\n",
    "import cv2\n",
    "import matplotlib.pyplot as plt\n",
    "\n",
    "init = 0 \n",
    "beauty = cv2.imread(r'C:\\Users\\nisha\\Pictures\\hello.jpg')"
   ]
  },
  {
   "cell_type": "code",
   "execution_count": null,
   "metadata": {},
   "outputs": [],
   "source": [
    "converted = cv2.cvtColor(beauty, cv2.COLOR_RGB2GRAY)\n"
   ]
  },
  {
   "cell_type": "code",
   "execution_count": null,
   "metadata": {},
   "outputs": [],
   "source": [
    "converted1 = cv2.GaussianBlur(converted, (5, 5 ), 0)\n"
   ]
  },
  {
   "cell_type": "code",
   "execution_count": null,
   "metadata": {},
   "outputs": [],
   "source": [
    "converted2 = cv2.Canny(converted1,20, 70)"
   ]
  },
  {
   "cell_type": "code",
   "execution_count": null,
   "metadata": {},
   "outputs": [],
   "source": [
    "if init % 5 == 0:\n",
    "    converted3 = np.zeros(converted2.shape) \n",
    "    converted3.astype(int)"
   ]
  },
  {
   "cell_type": "code",
   "execution_count": null,
   "metadata": {},
   "outputs": [],
   "source": [
    "converted3 = cv2.addWeighted(converted2 ,0.5, converted3 ,0.5,0)"
   ]
  },
  {
   "cell_type": "code",
   "execution_count": null,
   "metadata": {},
   "outputs": [],
   "source": [
    "converted3 = np.zeros(converted2.shape) \n",
    "converted3 = converted3.astype(np.uint8)\n",
    "converted3"
   ]
  },
  {
   "cell_type": "code",
   "execution_count": null,
   "metadata": {},
   "outputs": [],
   "source": []
  }
 ],
 "metadata": {
  "kernelspec": {
   "display_name": "Python 3",
   "language": "python",
   "name": "python3"
  },
  "language_info": {
   "codemirror_mode": {
    "name": "ipython",
    "version": 3
   },
   "file_extension": ".py",
   "mimetype": "text/x-python",
   "name": "python",
   "nbconvert_exporter": "python",
   "pygments_lexer": "ipython3",
   "version": "3.8.2"
  }
 },
 "nbformat": 4,
 "nbformat_minor": 4
}
